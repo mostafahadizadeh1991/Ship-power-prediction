{
  "nbformat": 4,
  "nbformat_minor": 0,
  "metadata": {
    "colab": {
      "name": "ship_power_prediction.ipynb",
      "provenance": [],
      "collapsed_sections": []
    },
    "kernelspec": {
      "name": "python3",
      "display_name": "Python 3"
    },
    "language_info": {
      "name": "python"
    }
  },
  "cells": [
    {
      "cell_type": "code",
      "metadata": {
        "id": "it_OalQ_LFjo"
      },
      "source": [
        "import pandas as pd\n",
        "import numpy as np\n",
        "import os\n",
        "import glob\n",
        "import matplotlib.pyplot as plt\n",
        "from sklearn.cluster import DBSCAN\n",
        "from sklearn.preprocessing import StandardScaler\n",
        "from keras.models import Sequential\n",
        "from keras.layers import Dense, Dropout\n",
        "from keras.wrappers.scikit_learn import KerasClassifier\n",
        "from keras.utils import np_utils\n",
        "from sklearn.model_selection import cross_val_score\n",
        "from sklearn.model_selection import KFold\n",
        "from sklearn.preprocessing import LabelEncoder\n",
        "from sklearn.pipeline import Pipeline\n",
        "from sklearn.ensemble import RandomForestClassifier\n",
        "from keras.optimizers import Optimizer\n",
        "from keras import optimizers\n",
        "from sklearn.ensemble import RandomForestRegressor\n",
        "from sklearn.linear_model import LinearRegression\n",
        "from sklearn.metrics import mean_absolute_error\n"
      ],
      "execution_count": 25,
      "outputs": []
    },
    {
      "cell_type": "markdown",
      "metadata": {
        "id": "33O8R28QLOOj"
      },
      "source": [
        "First of All I loaded my data using pandas. For this purpose I divided my data into two section: training and test "
      ]
    },
    {
      "cell_type": "code",
      "metadata": {
        "colab": {
          "base_uri": "https://localhost:8080/"
        },
        "id": "qjddLjdqLHtP",
        "outputId": "d160f8b1-3862-4d4d-ba96-7f111cf7d277"
      },
      "source": [
        "!wget --no-check-certificate \\\n",
        "    https://raw.githubusercontent.com/mostafahadizadeh1991/Ship-power-prediction/main/Ship_sailing_performance_data_test.csv \\\n",
        "    -O Ship_sailing_performance_data_test.csv\n",
        "!wget --no-check-certificate \\\n",
        "    https://raw.githubusercontent.com/mostafahadizadeh1991/Ship-power-prediction/main/Ship_sailing_performance_data_train.csv \\\n",
        "    -O Ship_sailing_performance_data_train.csv\n",
        "df_train = pd.read_csv(\"Ship_sailing_performance_data_train.csv\")\n",
        "df_test = pd.read_csv(\"Ship_sailing_performance_data_test.csv\")\n",
        "#df_train = df_train.drop(['Unnamed: 0'], axis=1)\n",
        "#df_test = df_test.drop(['Unnamed: 0'], axis=1)"
      ],
      "execution_count": 2,
      "outputs": [
        {
          "output_type": "stream",
          "text": [
            "--2021-03-29 13:43:38--  https://raw.githubusercontent.com/mostafahadizadeh1991/Ship-power-prediction/main/Ship_sailing_performance_data_test.csv\n",
            "Resolving raw.githubusercontent.com (raw.githubusercontent.com)... 185.199.109.133, 185.199.108.133, 185.199.110.133, ...\n",
            "Connecting to raw.githubusercontent.com (raw.githubusercontent.com)|185.199.109.133|:443... connected.\n",
            "HTTP request sent, awaiting response... 200 OK\n",
            "Length: 15550 (15K) [text/plain]\n",
            "Saving to: ‘Ship_sailing_performance_data_test.csv’\n",
            "\n",
            "Ship_sailing_perfor 100%[===================>]  15.19K  --.-KB/s    in 0s      \n",
            "\n",
            "2021-03-29 13:43:39 (34.9 MB/s) - ‘Ship_sailing_performance_data_test.csv’ saved [15550/15550]\n",
            "\n",
            "--2021-03-29 13:43:39--  https://raw.githubusercontent.com/mostafahadizadeh1991/Ship-power-prediction/main/Ship_sailing_performance_data_train.csv\n",
            "Resolving raw.githubusercontent.com (raw.githubusercontent.com)... 185.199.110.133, 185.199.111.133, 185.199.109.133, ...\n",
            "Connecting to raw.githubusercontent.com (raw.githubusercontent.com)|185.199.110.133|:443... connected.\n",
            "HTTP request sent, awaiting response... 200 OK\n",
            "Length: 35962 (35K) [text/plain]\n",
            "Saving to: ‘Ship_sailing_performance_data_train.csv’\n",
            "\n",
            "Ship_sailing_perfor 100%[===================>]  35.12K  --.-KB/s    in 0.004s  \n",
            "\n",
            "2021-03-29 13:43:39 (8.13 MB/s) - ‘Ship_sailing_performance_data_train.csv’ saved [35962/35962]\n",
            "\n"
          ],
          "name": "stdout"
        }
      ]
    },
    {
      "cell_type": "markdown",
      "metadata": {
        "id": "IJSN6z2nOuMT"
      },
      "source": [
        "In the next step, target ,ship’s propulsion power, for training and test data has been shown by y_train and y_test, respectively."
      ]
    },
    {
      "cell_type": "code",
      "metadata": {
        "id": "vNGNco78OfUk"
      },
      "source": [
        "y_train = df_train['Power']\n",
        "y_test = df_test['Power']\n",
        "df_train = df_train.drop(['Power'], axis=1)\n",
        "df_test = df_test.drop(['Power'], axis=1)"
      ],
      "execution_count": 3,
      "outputs": []
    },
    {
      "cell_type": "code",
      "metadata": {
        "id": "rTpoIb4xPIjz"
      },
      "source": [
        "x_train = df_train.values\n",
        "x_test = df_test.values"
      ],
      "execution_count": 5,
      "outputs": []
    },
    {
      "cell_type": "code",
      "metadata": {
        "id": "b5f9M2mIPacj"
      },
      "source": [
        "RF = RandomForestRegressor()"
      ],
      "execution_count": 6,
      "outputs": []
    },
    {
      "cell_type": "markdown",
      "metadata": {
        "id": "ztPEoo0CQs4b"
      },
      "source": [
        "Now we should model our training using Random Forest machine learning method."
      ]
    },
    {
      "cell_type": "code",
      "metadata": {
        "colab": {
          "base_uri": "https://localhost:8080/"
        },
        "id": "ryz0Tqt3PxzL",
        "outputId": "d59c1d6b-f6b6-4623-fc6e-f07facfd74ef"
      },
      "source": [
        "RF.fit(x_train, y_train)"
      ],
      "execution_count": 7,
      "outputs": [
        {
          "output_type": "execute_result",
          "data": {
            "text/plain": [
              "RandomForestRegressor(bootstrap=True, ccp_alpha=0.0, criterion='mse',\n",
              "                      max_depth=None, max_features='auto', max_leaf_nodes=None,\n",
              "                      max_samples=None, min_impurity_decrease=0.0,\n",
              "                      min_impurity_split=None, min_samples_leaf=1,\n",
              "                      min_samples_split=2, min_weight_fraction_leaf=0.0,\n",
              "                      n_estimators=100, n_jobs=None, oob_score=False,\n",
              "                      random_state=None, verbose=0, warm_start=False)"
            ]
          },
          "metadata": {
            "tags": []
          },
          "execution_count": 7
        }
      ]
    },
    {
      "cell_type": "markdown",
      "metadata": {
        "id": "2L4i9tOGQlfD"
      },
      "source": [
        "Here, we're gonna implement prediction over x_test data"
      ]
    },
    {
      "cell_type": "code",
      "metadata": {
        "id": "voixeEEzQRac"
      },
      "source": [
        "y_pred = RF.predict(x_test)"
      ],
      "execution_count": 9,
      "outputs": []
    },
    {
      "cell_type": "code",
      "metadata": {
        "colab": {
          "base_uri": "https://localhost:8080/"
        },
        "id": "umRCCWvcQU1y",
        "outputId": "a9e51c7e-a2bd-4059-e82b-80c444fcdbfd"
      },
      "source": [
        "maerandom = mean_absolute_error(y_test, y_pred)\n",
        "maerandom"
      ],
      "execution_count": 12,
      "outputs": [
        {
          "output_type": "execute_result",
          "data": {
            "text/plain": [
              "13.102686688560578"
            ]
          },
          "metadata": {
            "tags": []
          },
          "execution_count": 12
        }
      ]
    },
    {
      "cell_type": "code",
      "metadata": {
        "id": "sqCfnwVFRsHZ"
      },
      "source": [
        ""
      ],
      "execution_count": null,
      "outputs": []
    },
    {
      "cell_type": "markdown",
      "metadata": {
        "id": "rY6WiRjoRnYr"
      },
      "source": [
        "In the next step I used SGD machine learnoing method as my second approach to prediction of x_test data."
      ]
    },
    {
      "cell_type": "code",
      "metadata": {
        "id": "I1geC0doRTus"
      },
      "source": [
        "sgd = optimizers.SGD(lr=0.1, clipnorm = 1, nesterov = True)\n",
        "model = Sequential()\n",
        "model.add(Dense(256, input_dim = 10, activation='relu'))\n",
        "model.add(Dropout(0.2))\n",
        "model.add(Dense(128, activation='relu'))\n",
        "model.add(Dense(1, activation='relu'))\n",
        "model.compile(loss='mean_absolute_error', optimizer='nadam')"
      ],
      "execution_count": 19,
      "outputs": []
    },
    {
      "cell_type": "code",
      "metadata": {
        "colab": {
          "base_uri": "https://localhost:8080/"
        },
        "id": "H_Mos17_SMlT",
        "outputId": "a2685d5a-4c4f-495a-d3f4-0dbbddd80073"
      },
      "source": [
        "x_train.shape, y_train.shape, x_test.shape, y_test.shape"
      ],
      "execution_count": 16,
      "outputs": [
        {
          "output_type": "execute_result",
          "data": {
            "text/plain": [
              "((291, 10), (291,), (125, 10), (125,))"
            ]
          },
          "metadata": {
            "tags": []
          },
          "execution_count": 16
        }
      ]
    },
    {
      "cell_type": "code",
      "metadata": {
        "colab": {
          "base_uri": "https://localhost:8080/"
        },
        "id": "Z-sU4ccuR5Gj",
        "outputId": "10ad5067-94f3-4d27-bcad-3c2210c362c8"
      },
      "source": [
        "model.fit(x_train, y_train, epochs=100, batch_size=100)"
      ],
      "execution_count": 20,
      "outputs": [
        {
          "output_type": "stream",
          "text": [
            "Epoch 1/100\n",
            "3/3 [==============================] - 1s 6ms/step - loss: 9128.8796\n",
            "Epoch 2/100\n",
            "3/3 [==============================] - 0s 5ms/step - loss: 8813.6023\n",
            "Epoch 3/100\n",
            "3/3 [==============================] - 0s 5ms/step - loss: 8422.4106\n",
            "Epoch 4/100\n",
            "3/3 [==============================] - 0s 4ms/step - loss: 7882.6688\n",
            "Epoch 5/100\n",
            "3/3 [==============================] - 0s 4ms/step - loss: 7229.2156\n",
            "Epoch 6/100\n",
            "3/3 [==============================] - 0s 5ms/step - loss: 6422.1437\n",
            "Epoch 7/100\n",
            "3/3 [==============================] - 0s 5ms/step - loss: 5496.9095\n",
            "Epoch 8/100\n",
            "3/3 [==============================] - 0s 6ms/step - loss: 4346.5172\n",
            "Epoch 9/100\n",
            "3/3 [==============================] - 0s 5ms/step - loss: 2912.1232\n",
            "Epoch 10/100\n",
            "3/3 [==============================] - 0s 4ms/step - loss: 1266.9357\n",
            "Epoch 11/100\n",
            "3/3 [==============================] - 0s 5ms/step - loss: 384.7425\n",
            "Epoch 12/100\n",
            "3/3 [==============================] - 0s 7ms/step - loss: 417.9961\n",
            "Epoch 13/100\n",
            "3/3 [==============================] - 0s 7ms/step - loss: 381.3465\n",
            "Epoch 14/100\n",
            "3/3 [==============================] - 0s 5ms/step - loss: 392.8108\n",
            "Epoch 15/100\n",
            "3/3 [==============================] - 0s 5ms/step - loss: 383.4242\n",
            "Epoch 16/100\n",
            "3/3 [==============================] - 0s 5ms/step - loss: 403.7947\n",
            "Epoch 17/100\n",
            "3/3 [==============================] - 0s 4ms/step - loss: 400.3276\n",
            "Epoch 18/100\n",
            "3/3 [==============================] - 0s 5ms/step - loss: 363.3944\n",
            "Epoch 19/100\n",
            "3/3 [==============================] - 0s 6ms/step - loss: 399.1886\n",
            "Epoch 20/100\n",
            "3/3 [==============================] - 0s 4ms/step - loss: 390.3574\n",
            "Epoch 21/100\n",
            "3/3 [==============================] - 0s 5ms/step - loss: 376.9445\n",
            "Epoch 22/100\n",
            "3/3 [==============================] - 0s 6ms/step - loss: 368.0474\n",
            "Epoch 23/100\n",
            "3/3 [==============================] - 0s 7ms/step - loss: 356.2298\n",
            "Epoch 24/100\n",
            "3/3 [==============================] - 0s 6ms/step - loss: 384.4378\n",
            "Epoch 25/100\n",
            "3/3 [==============================] - 0s 7ms/step - loss: 374.3293\n",
            "Epoch 26/100\n",
            "3/3 [==============================] - 0s 7ms/step - loss: 368.8603\n",
            "Epoch 27/100\n",
            "3/3 [==============================] - 0s 6ms/step - loss: 344.8209\n",
            "Epoch 28/100\n",
            "3/3 [==============================] - 0s 9ms/step - loss: 356.3572\n",
            "Epoch 29/100\n",
            "3/3 [==============================] - 0s 6ms/step - loss: 362.1634\n",
            "Epoch 30/100\n",
            "3/3 [==============================] - 0s 5ms/step - loss: 379.8510\n",
            "Epoch 31/100\n",
            "3/3 [==============================] - 0s 5ms/step - loss: 370.8690\n",
            "Epoch 32/100\n",
            "3/3 [==============================] - 0s 6ms/step - loss: 347.8692\n",
            "Epoch 33/100\n",
            "3/3 [==============================] - 0s 4ms/step - loss: 329.9816\n",
            "Epoch 34/100\n",
            "3/3 [==============================] - 0s 4ms/step - loss: 363.9620\n",
            "Epoch 35/100\n",
            "3/3 [==============================] - 0s 6ms/step - loss: 363.4209\n",
            "Epoch 36/100\n",
            "3/3 [==============================] - 0s 6ms/step - loss: 410.7485\n",
            "Epoch 37/100\n",
            "3/3 [==============================] - 0s 6ms/step - loss: 354.4299\n",
            "Epoch 38/100\n",
            "3/3 [==============================] - 0s 7ms/step - loss: 320.0863\n",
            "Epoch 39/100\n",
            "3/3 [==============================] - 0s 5ms/step - loss: 358.1913\n",
            "Epoch 40/100\n",
            "3/3 [==============================] - 0s 5ms/step - loss: 357.5263\n",
            "Epoch 41/100\n",
            "3/3 [==============================] - 0s 6ms/step - loss: 359.8076\n",
            "Epoch 42/100\n",
            "3/3 [==============================] - 0s 4ms/step - loss: 310.6766\n",
            "Epoch 43/100\n",
            "3/3 [==============================] - 0s 4ms/step - loss: 372.7196\n",
            "Epoch 44/100\n",
            "3/3 [==============================] - 0s 5ms/step - loss: 335.2862\n",
            "Epoch 45/100\n",
            "3/3 [==============================] - 0s 4ms/step - loss: 369.7016\n",
            "Epoch 46/100\n",
            "3/3 [==============================] - 0s 6ms/step - loss: 332.8024\n",
            "Epoch 47/100\n",
            "3/3 [==============================] - 0s 9ms/step - loss: 346.8000\n",
            "Epoch 48/100\n",
            "3/3 [==============================] - 0s 5ms/step - loss: 360.3697\n",
            "Epoch 49/100\n",
            "3/3 [==============================] - 0s 6ms/step - loss: 350.6197\n",
            "Epoch 50/100\n",
            "3/3 [==============================] - 0s 6ms/step - loss: 355.6582\n",
            "Epoch 51/100\n",
            "3/3 [==============================] - 0s 8ms/step - loss: 351.6816\n",
            "Epoch 52/100\n",
            "3/3 [==============================] - 0s 5ms/step - loss: 343.5745\n",
            "Epoch 53/100\n",
            "3/3 [==============================] - 0s 6ms/step - loss: 363.1978\n",
            "Epoch 54/100\n",
            "3/3 [==============================] - 0s 5ms/step - loss: 366.4050\n",
            "Epoch 55/100\n",
            "3/3 [==============================] - 0s 9ms/step - loss: 335.3100\n",
            "Epoch 56/100\n",
            "3/3 [==============================] - 0s 8ms/step - loss: 341.3382\n",
            "Epoch 57/100\n",
            "3/3 [==============================] - 0s 6ms/step - loss: 362.8001\n",
            "Epoch 58/100\n",
            "3/3 [==============================] - 0s 6ms/step - loss: 325.2836\n",
            "Epoch 59/100\n",
            "3/3 [==============================] - 0s 6ms/step - loss: 361.5056\n",
            "Epoch 60/100\n",
            "3/3 [==============================] - 0s 6ms/step - loss: 336.2654\n",
            "Epoch 61/100\n",
            "3/3 [==============================] - 0s 4ms/step - loss: 367.8022\n",
            "Epoch 62/100\n",
            "3/3 [==============================] - 0s 7ms/step - loss: 332.5278\n",
            "Epoch 63/100\n",
            "3/3 [==============================] - 0s 7ms/step - loss: 364.7659\n",
            "Epoch 64/100\n",
            "3/3 [==============================] - 0s 6ms/step - loss: 317.0020\n",
            "Epoch 65/100\n",
            "3/3 [==============================] - 0s 5ms/step - loss: 306.5123\n",
            "Epoch 66/100\n",
            "3/3 [==============================] - 0s 6ms/step - loss: 315.2676\n",
            "Epoch 67/100\n",
            "3/3 [==============================] - 0s 5ms/step - loss: 342.0698\n",
            "Epoch 68/100\n",
            "3/3 [==============================] - 0s 8ms/step - loss: 353.9868\n",
            "Epoch 69/100\n",
            "3/3 [==============================] - 0s 6ms/step - loss: 351.5868\n",
            "Epoch 70/100\n",
            "3/3 [==============================] - 0s 5ms/step - loss: 351.7680\n",
            "Epoch 71/100\n",
            "3/3 [==============================] - 0s 8ms/step - loss: 340.6794\n",
            "Epoch 72/100\n",
            "3/3 [==============================] - 0s 6ms/step - loss: 323.3886\n",
            "Epoch 73/100\n",
            "3/3 [==============================] - 0s 6ms/step - loss: 356.2067\n",
            "Epoch 74/100\n",
            "3/3 [==============================] - 0s 7ms/step - loss: 358.0230\n",
            "Epoch 75/100\n",
            "3/3 [==============================] - 0s 6ms/step - loss: 327.9365\n",
            "Epoch 76/100\n",
            "3/3 [==============================] - 0s 6ms/step - loss: 344.9121\n",
            "Epoch 77/100\n",
            "3/3 [==============================] - 0s 6ms/step - loss: 362.1460\n",
            "Epoch 78/100\n",
            "3/3 [==============================] - 0s 4ms/step - loss: 324.2588\n",
            "Epoch 79/100\n",
            "3/3 [==============================] - 0s 5ms/step - loss: 364.5960\n",
            "Epoch 80/100\n",
            "3/3 [==============================] - 0s 5ms/step - loss: 373.1669\n",
            "Epoch 81/100\n",
            "3/3 [==============================] - 0s 11ms/step - loss: 316.0394\n",
            "Epoch 82/100\n",
            "3/3 [==============================] - 0s 5ms/step - loss: 349.1324\n",
            "Epoch 83/100\n",
            "3/3 [==============================] - 0s 7ms/step - loss: 331.5412\n",
            "Epoch 84/100\n",
            "3/3 [==============================] - 0s 6ms/step - loss: 298.8243\n",
            "Epoch 85/100\n",
            "3/3 [==============================] - 0s 8ms/step - loss: 337.6878\n",
            "Epoch 86/100\n",
            "3/3 [==============================] - 0s 7ms/step - loss: 323.4088\n",
            "Epoch 87/100\n",
            "3/3 [==============================] - 0s 4ms/step - loss: 340.4833\n",
            "Epoch 88/100\n",
            "3/3 [==============================] - 0s 5ms/step - loss: 339.9182\n",
            "Epoch 89/100\n",
            "3/3 [==============================] - 0s 6ms/step - loss: 318.0107\n",
            "Epoch 90/100\n",
            "3/3 [==============================] - 0s 6ms/step - loss: 323.0498\n",
            "Epoch 91/100\n",
            "3/3 [==============================] - 0s 5ms/step - loss: 318.6207\n",
            "Epoch 92/100\n",
            "3/3 [==============================] - 0s 9ms/step - loss: 298.7357\n",
            "Epoch 93/100\n",
            "3/3 [==============================] - 0s 7ms/step - loss: 342.6577\n",
            "Epoch 94/100\n",
            "3/3 [==============================] - 0s 8ms/step - loss: 372.9029\n",
            "Epoch 95/100\n",
            "3/3 [==============================] - 0s 4ms/step - loss: 410.0856\n",
            "Epoch 96/100\n",
            "3/3 [==============================] - 0s 5ms/step - loss: 364.8352\n",
            "Epoch 97/100\n",
            "3/3 [==============================] - 0s 5ms/step - loss: 406.4589\n",
            "Epoch 98/100\n",
            "3/3 [==============================] - 0s 5ms/step - loss: 327.3416\n",
            "Epoch 99/100\n",
            "3/3 [==============================] - 0s 5ms/step - loss: 361.2249\n",
            "Epoch 100/100\n",
            "3/3 [==============================] - 0s 7ms/step - loss: 374.9439\n"
          ],
          "name": "stdout"
        },
        {
          "output_type": "execute_result",
          "data": {
            "text/plain": [
              "<tensorflow.python.keras.callbacks.History at 0x7fecfd531e50>"
            ]
          },
          "metadata": {
            "tags": []
          },
          "execution_count": 20
        }
      ]
    },
    {
      "cell_type": "code",
      "metadata": {
        "colab": {
          "base_uri": "https://localhost:8080/"
        },
        "id": "2S_4T7SJS7Cr",
        "outputId": "bdefb44a-b2be-43a2-ca43-3cbabf60db47"
      },
      "source": [
        "ypredSGD = model.predict(x_test)\n",
        "maeSGD=mean_absolute_error(y_test, ypredSGD)\n",
        "maeSGD"
      ],
      "execution_count": 28,
      "outputs": [
        {
          "output_type": "execute_result",
          "data": {
            "text/plain": [
              "47.41325000199998"
            ]
          },
          "metadata": {
            "tags": []
          },
          "execution_count": 28
        }
      ]
    },
    {
      "cell_type": "markdown",
      "metadata": {
        "id": "67flWSW5T7c6"
      },
      "source": [
        "As the last approach in this assigment I used Linear regression for prediction of x_test data."
      ]
    },
    {
      "cell_type": "code",
      "metadata": {
        "colab": {
          "base_uri": "https://localhost:8080/"
        },
        "id": "tvcDLtdDTz-D",
        "outputId": "f046a020-fe3c-4963-cec3-ca357fcd0f1b"
      },
      "source": [
        "linear = LinearRegression()\n",
        "linear.fit(x_train, y_train)\n",
        "ypredlinear = linear.predict(x_test)\n",
        "maelinear=mean_absolute_error(y_test, ypredlinear)\n",
        "maelinear"
      ],
      "execution_count": 31,
      "outputs": [
        {
          "output_type": "execute_result",
          "data": {
            "text/plain": [
              "1.8571171385701746e-06"
            ]
          },
          "metadata": {
            "tags": []
          },
          "execution_count": 31
        }
      ]
    },
    {
      "cell_type": "code",
      "metadata": {
        "id": "rUFKRv9UUOHu"
      },
      "source": [
        "meanlist = [maelinear, maeSGD,maerandom,]\n",
        "name = ['Linear Regression', 'SGD','Random Forest',]"
      ],
      "execution_count": 29,
      "outputs": []
    },
    {
      "cell_type": "code",
      "metadata": {
        "colab": {
          "base_uri": "https://localhost:8080/",
          "height": 296
        },
        "id": "M1IETbbLUQ3L",
        "outputId": "c735c51e-2a2b-4e60-bbb1-c9f0117f05aa"
      },
      "source": [
        "plt.bar(name,meanlist)\n",
        "plt.xlabel(\"Data\")\n",
        "plt.ylabel(\"Mean Absolute Error\")"
      ],
      "execution_count": 30,
      "outputs": [
        {
          "output_type": "execute_result",
          "data": {
            "text/plain": [
              "Text(0, 0.5, 'Mean Absolute Error')"
            ]
          },
          "metadata": {
            "tags": []
          },
          "execution_count": 30
        },
        {
          "output_type": "display_data",
          "data": {
            "image/png": "[encoded data removed]",
            "text/plain": [
              "<Figure size 432x288 with 1 Axes>"
            ]
          },
          "metadata": {
            "tags": [],
            "needs_background": "light"
          }
        }
      ]
    }
  ]
}